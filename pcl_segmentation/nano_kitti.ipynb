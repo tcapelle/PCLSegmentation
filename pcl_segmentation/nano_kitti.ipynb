{
 "cells": [
  {
   "cell_type": "code",
   "execution_count": 1,
   "id": "f64970f1-4cf0-4fe5-97c0-209a54172c36",
   "metadata": {},
   "outputs": [],
   "source": [
    "import shutil, random\n",
    "from pathlib import Path"
   ]
  },
  {
   "cell_type": "code",
   "execution_count": 7,
   "id": "822588d7-e07f-4a89-b439-62967f2f4fb1",
   "metadata": {},
   "outputs": [
    {
     "data": {
      "text/plain": [
       "True"
      ]
     },
     "execution_count": 7,
     "metadata": {},
     "output_type": "execute_result"
    }
   ],
   "source": [
    "kitti_path = Path(\"/mnt/disks/KITTI/converted_dataset/\")\n",
    "small_kitti = Path(\"/mnt/disks/KITTI/small\")\n",
    "nano_kitti = Path(\"/mnt/disks/KITTI/nano\")\n",
    "nano_kitti.exists()"
   ]
  },
  {
   "cell_type": "code",
   "execution_count": 3,
   "id": "7389ad28-8cce-4dd5-ae2b-9835ea0482b0",
   "metadata": {},
   "outputs": [],
   "source": [
    "train_files = list((small_kitti/\"train\").rglob(\"*.npy\"))\n",
    "valid_files = list((small_kitti/\"val\").rglob(\"*.npy\"))"
   ]
  },
  {
   "cell_type": "code",
   "execution_count": 5,
   "id": "c91312d9-e315-4338-bb8a-4602707058ff",
   "metadata": {},
   "outputs": [],
   "source": [
    "sample_train_files = random.sample(train_files, 40)\n",
    "sample_valid_files = random.sample(valid_files, 10)"
   ]
  },
  {
   "cell_type": "code",
   "execution_count": 10,
   "id": "56aaef2f-3644-43aa-81d5-cc3f59959a79",
   "metadata": {},
   "outputs": [],
   "source": [
    "for f in (sample_train_files+sample_valid_files):\n",
    "    shutil.copyfile(f, nano_kitti/f.relative_to(small_kitti))"
   ]
  },
  {
   "cell_type": "markdown",
   "id": "9b061b30-7301-42dc-b4a1-4b9a1fec5cce",
   "metadata": {},
   "source": [
    "## Log dataset"
   ]
  },
  {
   "cell_type": "code",
   "execution_count": 11,
   "id": "5b4769a7-c979-40d9-94bf-f770e289311c",
   "metadata": {},
   "outputs": [],
   "source": [
    "import wandb"
   ]
  },
  {
   "cell_type": "code",
   "execution_count": 12,
   "id": "390644bc-5ebd-4d64-a29c-ba6991036b3e",
   "metadata": {},
   "outputs": [],
   "source": [
    "at = wandb.Artifact(\"KITTI_nano\", type=\"dataset\", description=\"A nano version of KITTI with only 40/10 samples\")"
   ]
  },
  {
   "cell_type": "code",
   "execution_count": 13,
   "id": "d4b2da3a-1f87-4409-b188-809110696536",
   "metadata": {},
   "outputs": [
    {
     "name": "stderr",
     "output_type": "stream",
     "text": [
      "\u001b[34m\u001b[1mwandb\u001b[0m: Adding directory to artifact (/mnt/disks/KITTI/nano)... Done. 0.4s\n"
     ]
    }
   ],
   "source": [
    "at.add_dir(nano_kitti)"
   ]
  },
  {
   "cell_type": "code",
   "execution_count": 14,
   "id": "c277fda8-86f1-4a73-ba27-d42d7de82777",
   "metadata": {},
   "outputs": [
    {
     "name": "stderr",
     "output_type": "stream",
     "text": [
      "Failed to detect the name of this notebook, you can set it manually with the WANDB_NOTEBOOK_NAME environment variable to enable code saving.\n",
      "\u001b[34m\u001b[1mwandb\u001b[0m: Currently logged in as: \u001b[33mcapecape\u001b[0m (\u001b[33mav-team\u001b[0m). Use \u001b[1m`wandb login --relogin`\u001b[0m to force relogin\n"
     ]
    },
    {
     "data": {
      "text/html": [
       "wandb version 0.13.3 is available!  To upgrade, please run:\n",
       " $ pip install wandb --upgrade"
      ],
      "text/plain": [
       "<IPython.core.display.HTML object>"
      ]
     },
     "metadata": {},
     "output_type": "display_data"
    },
    {
     "data": {
      "text/html": [
       "Tracking run with wandb version 0.13.2"
      ],
      "text/plain": [
       "<IPython.core.display.HTML object>"
      ]
     },
     "metadata": {},
     "output_type": "display_data"
    },
    {
     "data": {
      "text/html": [
       "Run data is saved locally in <code>/home/tcapelle/wandb/PCLSegmentation/pcl_segmentation/wandb/run-20220909_132821-tpj2pkv4</code>"
      ],
      "text/plain": [
       "<IPython.core.display.HTML object>"
      ]
     },
     "metadata": {},
     "output_type": "display_data"
    },
    {
     "data": {
      "text/html": [
       "Syncing run <strong><a href=\"https://wandb.ai/av-team/small_kitti/runs/tpj2pkv4\" target=\"_blank\">olive-music-51</a></strong> to <a href=\"https://wandb.ai/av-team/small_kitti\" target=\"_blank\">Weights & Biases</a> (<a href=\"https://wandb.me/run\" target=\"_blank\">docs</a>)<br/>"
      ],
      "text/plain": [
       "<IPython.core.display.HTML object>"
      ]
     },
     "metadata": {},
     "output_type": "display_data"
    },
    {
     "data": {
      "text/html": [
       "Waiting for W&B process to finish... <strong style=\"color:green\">(success).</strong>"
      ],
      "text/plain": [
       "<IPython.core.display.HTML object>"
      ]
     },
     "metadata": {},
     "output_type": "display_data"
    },
    {
     "data": {
      "application/vnd.jupyter.widget-view+json": {
       "model_id": "",
       "version_major": 2,
       "version_minor": 0
      },
      "text/plain": [
       "VBox(children=(Label(value='150.007 MB of 150.007 MB uploaded (0.000 MB deduped)\\r'), FloatProgress(value=1.0,…"
      ]
     },
     "metadata": {},
     "output_type": "display_data"
    },
    {
     "data": {
      "text/html": [
       "Synced <strong style=\"color:#cdcd00\">olive-music-51</strong>: <a href=\"https://wandb.ai/av-team/small_kitti/runs/tpj2pkv4\" target=\"_blank\">https://wandb.ai/av-team/small_kitti/runs/tpj2pkv4</a><br/>Synced 5 W&B file(s), 0 media file(s), 50 artifact file(s) and 0 other file(s)"
      ],
      "text/plain": [
       "<IPython.core.display.HTML object>"
      ]
     },
     "metadata": {},
     "output_type": "display_data"
    },
    {
     "data": {
      "text/html": [
       "Find logs at: <code>./wandb/run-20220909_132821-tpj2pkv4/logs</code>"
      ],
      "text/plain": [
       "<IPython.core.display.HTML object>"
      ]
     },
     "metadata": {},
     "output_type": "display_data"
    }
   ],
   "source": [
    "with wandb.init(project=\"small_kitti\", entity=\"av-team\", job_type=\"log_dataset\"):\n",
    "    wandb.log_artifact(at)"
   ]
  },
  {
   "cell_type": "code",
   "execution_count": null,
   "id": "33b2cad5-bd4c-4e39-9f28-5dfcc0ec5c06",
   "metadata": {},
   "outputs": [],
   "source": []
  }
 ],
 "metadata": {
  "kernelspec": {
   "display_name": "Python 3 (ipykernel)",
   "language": "python",
   "name": "python3"
  },
  "language_info": {
   "codemirror_mode": {
    "name": "ipython",
    "version": 3
   },
   "file_extension": ".py",
   "mimetype": "text/x-python",
   "name": "python",
   "nbconvert_exporter": "python",
   "pygments_lexer": "ipython3",
   "version": "3.10.6"
  }
 },
 "nbformat": 4,
 "nbformat_minor": 5
}
