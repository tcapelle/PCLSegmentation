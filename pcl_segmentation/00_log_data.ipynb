{
 "cells": [
  {
   "cell_type": "code",
   "execution_count": 1,
   "id": "9a4b2e0c-1c05-4483-975e-664035042b41",
   "metadata": {},
   "outputs": [
    {
     "name": "stderr",
     "output_type": "stream",
     "text": [
      "2022-09-09 13:28:48.072932: W tensorflow/stream_executor/platform/default/dso_loader.cc:64] Could not load dynamic library 'libcudart.so.11.0'; dlerror: libcudart.so.11.0: cannot open shared object file: No such file or directory\n",
      "2022-09-09 13:28:48.072970: I tensorflow/stream_executor/cuda/cudart_stub.cc:29] Ignore above cudart dlerror if you do not have a GPU set up on your machine.\n"
     ]
    }
   ],
   "source": [
    "from pathlib import Path\n",
    "from types import SimpleNamespace\n",
    "import tensorflow as tf\n",
    "\n",
    "import wandb\n",
    "\n",
    "from data_loader import DataLoader\n",
    "from utils.callbacks import TensorBoard\n",
    "from utils.util import *\n",
    "from utils.args_loader import load_model_config"
   ]
  },
  {
   "cell_type": "code",
   "execution_count": 23,
   "id": "5b449bbd-72d0-43b2-b093-a3634925bdc9",
   "metadata": {},
   "outputs": [
    {
     "data": {
      "text/plain": [
       "True"
      ]
     },
     "execution_count": 23,
     "metadata": {},
     "output_type": "execute_result"
    }
   ],
   "source": [
    "data_path = Path(\"/mnt/disks/KITTI/small/\")\n",
    "data_path.exists()"
   ]
  },
  {
   "cell_type": "code",
   "execution_count": 24,
   "id": "238c50eb-8366-410d-ab91-caa82d62c9b1",
   "metadata": {},
   "outputs": [],
   "source": [
    "arg = SimpleNamespace(model=\"squeezesegv2\",\n",
    "                      config=\"squeezesegv2kitti\",\n",
    "                      data_path=data_path,\n",
    "                      train_dir=\"../output\",\n",
    "                      epochs=10)   \n",
    "\n",
    "config, model = load_model_config(arg.model, arg.config)"
   ]
  },
  {
   "cell_type": "code",
   "execution_count": 25,
   "id": "2d27fef5-b6e8-4f01-9844-1336dd2adba2",
   "metadata": {},
   "outputs": [
    {
     "name": "stdout",
     "output_type": "stream",
     "text": [
      "TFRecord exists at /mnt/disks/KITTI/small/train.tfrecord. Skipping TFRecord writing.\n",
      "TFRecord exists at /mnt/disks/KITTI/small/val.tfrecord. Skipping TFRecord writing.\n"
     ]
    }
   ],
   "source": [
    "train_dl = DataLoader(\"train\", arg.data_path, config).write_tfrecord_dataset().read_tfrecord_dataset()\n",
    "val_dl = DataLoader(\"val\", arg.data_path, config).write_tfrecord_dataset().read_tfrecord_dataset()"
   ]
  },
  {
   "cell_type": "code",
   "execution_count": 26,
   "id": "164ee156-0c1d-45ea-9fc5-0881de57abab",
   "metadata": {},
   "outputs": [],
   "source": [
    "at = wandb.Artifact(\"KITTI_nano_tfrecord\", \n",
    "                    type=\"dataset\", \n",
    "                    description=\"A nano version of KITTI with only 40/10 samples\")"
   ]
  },
  {
   "cell_type": "code",
   "execution_count": 28,
   "id": "036b5100-c1ac-426c-8972-090c48272bfe",
   "metadata": {},
   "outputs": [],
   "source": [
    "# at.add_dir(data_path)"
   ]
  },
  {
   "cell_type": "code",
   "execution_count": 29,
   "id": "5e04d5d6-2024-414e-a6fe-f46bde44f82f",
   "metadata": {},
   "outputs": [],
   "source": [
    "# with wandb.init(project=\"small_kitti\", entity=\"av-team\", job_type=\"log_dataset\"):\n",
    "#     nano_kitti = wandb.use_artifact(\"KITTI_nano:v0\")\n",
    "#     wandb.log_artifact(at)"
   ]
  },
  {
   "cell_type": "markdown",
   "id": "90d6e6a4-7d94-46a9-85ca-8e0733562149",
   "metadata": {},
   "source": [
    "## Log validation dataset"
   ]
  },
  {
   "cell_type": "code",
   "execution_count": 30,
   "id": "b47b2cef-a0ea-425c-81be-a1f0ecbcba29",
   "metadata": {},
   "outputs": [],
   "source": [
    "from utils.wandb import _create_row"
   ]
  },
  {
   "cell_type": "code",
   "execution_count": 31,
   "id": "c34f6f5a-f36b-4005-8bde-43d0a0c68707",
   "metadata": {},
   "outputs": [],
   "source": [
    "class_color_map = model.CLS_COLOR_MAP\n",
    "classes = model.CLASSES\n",
    "class_map = {i:c  for i,c in enumerate(classes)}"
   ]
  },
  {
   "cell_type": "code",
   "execution_count": 32,
   "id": "2febdd60-7492-4b76-a44d-a4d7429f7c91",
   "metadata": {},
   "outputs": [
    {
     "data": {
      "text/plain": [
       "{0: 'None',\n",
       " 1: 'car',\n",
       " 2: 'bicycle',\n",
       " 3: 'motorcycle',\n",
       " 4: 'truck',\n",
       " 5: 'other-vehicle',\n",
       " 6: 'person',\n",
       " 7: 'bicyclist',\n",
       " 8: 'motorcyclist',\n",
       " 9: 'road',\n",
       " 10: 'parking',\n",
       " 11: 'sidewalk',\n",
       " 12: 'other-ground',\n",
       " 13: 'building',\n",
       " 14: 'fence',\n",
       " 15: 'vegetation',\n",
       " 16: 'trunk',\n",
       " 17: 'terrain',\n",
       " 18: 'pole',\n",
       " 19: 'traffic-sign'}"
      ]
     },
     "execution_count": 32,
     "metadata": {},
     "output_type": "execute_result"
    }
   ],
   "source": [
    "class_map"
   ]
  },
  {
   "cell_type": "code",
   "execution_count": 33,
   "id": "ea3f1a49-c12e-4aaf-b5ef-d3521fa15c93",
   "metadata": {},
   "outputs": [
    {
     "name": "stdout",
     "output_type": "stream",
     "text": [
      "Batch: 1, examples: 8\n"
     ]
    }
   ],
   "source": [
    "total_examples_seen = 0\n",
    "for i, ((lidar_inputs, lidar_masks), labels, _) in enumerate(val_dl):\n",
    "    lidar_inputs, lidar_masks, labels = lidar_inputs.numpy(), lidar_masks.numpy(), labels.numpy()\n",
    "    if total_examples_seen > 1:\n",
    "        print(f\"Batch: {i}, examples: {total_examples_seen}\")\n",
    "        break\n",
    "    total_examples_seen += lidar_inputs.shape[0]\n",
    "    for lidar_input, lidar_mask, label in zip(lidar_inputs, lidar_masks, labels):\n",
    "        label_image, depth_image, intensity_image, points_rgb = _create_row(lidar_input, \n",
    "                                                                            label,\n",
    "                                                                            class_color_map)"
   ]
  },
  {
   "cell_type": "code",
   "execution_count": 34,
   "id": "a10c06f0-24f4-4cad-b646-118ff7b80a2b",
   "metadata": {},
   "outputs": [],
   "source": [
    "def get_pixel_count(mask_data, class_labels):\n",
    "    (unique, counts) = np.unique(mask_data, return_counts=True)\n",
    "    unique = list(unique)\n",
    "    counts = list(counts)\n",
    "    frequency_dict = {}\n",
    "    for _class in class_labels.keys():\n",
    "        if _class in unique:\n",
    "            frequency_dict[class_labels[_class]] = counts[unique.index(_class)]\n",
    "        else:\n",
    "            frequency_dict[class_labels[_class]] = 0\n",
    "    return frequency_dict"
   ]
  },
  {
   "cell_type": "code",
   "execution_count": 35,
   "id": "e492f7f7-4f94-496c-975d-6e7f6af3e117",
   "metadata": {},
   "outputs": [],
   "source": [
    "pixel_count = get_pixel_count(label, class_map)"
   ]
  },
  {
   "cell_type": "code",
   "execution_count": 36,
   "id": "b2f4a003-4595-471a-9ed1-c8957ca7585e",
   "metadata": {},
   "outputs": [
    {
     "data": {
      "text/plain": [
       "{'None': 15281,\n",
       " 'car': 760,\n",
       " 'bicycle': 0,\n",
       " 'motorcycle': 402,\n",
       " 'truck': 0,\n",
       " 'other-vehicle': 0,\n",
       " 'person': 16,\n",
       " 'bicyclist': 0,\n",
       " 'motorcyclist': 0,\n",
       " 'road': 7040,\n",
       " 'parking': 0,\n",
       " 'sidewalk': 4434,\n",
       " 'other-ground': 0,\n",
       " 'building': 823,\n",
       " 'fence': 106,\n",
       " 'vegetation': 30754,\n",
       " 'trunk': 425,\n",
       " 'terrain': 5397,\n",
       " 'pole': 85,\n",
       " 'traffic-sign': 13}"
      ]
     },
     "execution_count": 36,
     "metadata": {},
     "output_type": "execute_result"
    }
   ],
   "source": [
    "pixel_count"
   ]
  },
  {
   "cell_type": "code",
   "execution_count": 37,
   "id": "bffda7fe-1c13-449a-b038-5daa41bacf19",
   "metadata": {},
   "outputs": [],
   "source": [
    "import pandas as pd\n",
    "def compute_pixel_count(dataset):\n",
    "    \"Compute the histogram per class on the dataset\"\n",
    "    pixel_df = pd.DataFrame(columns=list(class_map.values()))\n",
    "    freq = {k:0 for k in class_map.values()}\n",
    "    for (lidar_inputs, lidar_masks), labels, _ in dataset:\n",
    "        lidar_inputs, lidar_masks, labels = lidar_inputs.numpy(), lidar_masks.numpy(), labels.numpy()\n",
    "        for i, (lidar_input, lidar_mask, label) in enumerate(zip(lidar_inputs, lidar_masks, labels)):\n",
    "            pixel_count = get_pixel_count(label, class_map)\n",
    "            pixel_df = pixel_df.append(freq, ignore_index=True)\n",
    "            for k,v in pixel_count.items():\n",
    "                freq[k] += (1 if v else 0)\n",
    "    return freq, pixel_df"
   ]
  },
  {
   "cell_type": "code",
   "execution_count": 38,
   "id": "efdcfeab-2a68-4e44-8d27-c4cab6d3e064",
   "metadata": {},
   "outputs": [],
   "source": [
    "val_freq, val_pixel_df = compute_pixel_count(val_dl)\n",
    "train_freq, train_pixel_df = compute_pixel_count(train_dl)"
   ]
  },
  {
   "cell_type": "code",
   "execution_count": 39,
   "id": "803122e7-7b3c-41dd-8b2e-e16e0ebd9b57",
   "metadata": {},
   "outputs": [
    {
     "data": {
      "text/plain": [
       "{'None': 200,\n",
       " 'car': 200,\n",
       " 'bicycle': 91,\n",
       " 'motorcycle': 40,\n",
       " 'truck': 14,\n",
       " 'other-vehicle': 100,\n",
       " 'person': 92,\n",
       " 'bicyclist': 47,\n",
       " 'motorcyclist': 8,\n",
       " 'road': 200,\n",
       " 'parking': 59,\n",
       " 'sidewalk': 200,\n",
       " 'other-ground': 31,\n",
       " 'building': 200,\n",
       " 'fence': 184,\n",
       " 'vegetation': 200,\n",
       " 'trunk': 190,\n",
       " 'terrain': 200,\n",
       " 'pole': 200,\n",
       " 'traffic-sign': 136}"
      ]
     },
     "execution_count": 39,
     "metadata": {},
     "output_type": "execute_result"
    }
   ],
   "source": [
    "val_freq"
   ]
  },
  {
   "cell_type": "code",
   "execution_count": 40,
   "id": "bf0a8d57-afab-41e0-9910-b939bd74c2a6",
   "metadata": {},
   "outputs": [],
   "source": [
    "def freq_plot(freq, title=\"Frequencies\"):\n",
    "    \"Create Freq plot\"\n",
    "    df = pd.DataFrame(columns=class_map.values())\n",
    "    df = df.append(freq, ignore_index=True)\n",
    "    df = df.T.reset_index()\n",
    "    df.columns = [\"Detection-Classes\", \"Frequencies\"]\n",
    "    table = wandb.Table(dataframe=df)\n",
    "    return wandb.plot.bar(table, \"Detection-Classes\", \"Frequencies\", title=title)    "
   ]
  },
  {
   "cell_type": "code",
   "execution_count": 41,
   "id": "580adde7-314c-41b8-a4d8-1536262404a0",
   "metadata": {},
   "outputs": [
    {
     "data": {
      "text/html": [
       "wandb version 0.13.3 is available!  To upgrade, please run:\n",
       " $ pip install wandb --upgrade"
      ],
      "text/plain": [
       "<IPython.core.display.HTML object>"
      ]
     },
     "metadata": {},
     "output_type": "display_data"
    },
    {
     "data": {
      "text/html": [
       "Tracking run with wandb version 0.13.2"
      ],
      "text/plain": [
       "<IPython.core.display.HTML object>"
      ]
     },
     "metadata": {},
     "output_type": "display_data"
    },
    {
     "data": {
      "text/html": [
       "Run data is saved locally in <code>/home/tcapelle/wandb/PCLSegmentation/pcl_segmentation/wandb/run-20220909_133459-1k13wjo9</code>"
      ],
      "text/plain": [
       "<IPython.core.display.HTML object>"
      ]
     },
     "metadata": {},
     "output_type": "display_data"
    },
    {
     "data": {
      "text/html": [
       "Syncing run <strong><a href=\"https://wandb.ai/av-team/small_kitti/runs/1k13wjo9\" target=\"_blank\">warm-snowball-54</a></strong> to <a href=\"https://wandb.ai/av-team/small_kitti\" target=\"_blank\">Weights & Biases</a> (<a href=\"https://wandb.me/run\" target=\"_blank\">docs</a>)<br/>"
      ],
      "text/plain": [
       "<IPython.core.display.HTML object>"
      ]
     },
     "metadata": {},
     "output_type": "display_data"
    },
    {
     "data": {
      "text/html": [
       "Waiting for W&B process to finish... <strong style=\"color:green\">(success).</strong>"
      ],
      "text/plain": [
       "<IPython.core.display.HTML object>"
      ]
     },
     "metadata": {},
     "output_type": "display_data"
    },
    {
     "data": {
      "application/vnd.jupyter.widget-view+json": {
       "model_id": "",
       "version_major": 2,
       "version_minor": 0
      },
      "text/plain": [
       "VBox(children=(Label(value='0.001 MB of 0.002 MB uploaded (0.000 MB deduped)\\r'), FloatProgress(value=0.780271…"
      ]
     },
     "metadata": {},
     "output_type": "display_data"
    },
    {
     "data": {
      "text/html": [
       "Synced <strong style=\"color:#cdcd00\">warm-snowball-54</strong>: <a href=\"https://wandb.ai/av-team/small_kitti/runs/1k13wjo9\" target=\"_blank\">https://wandb.ai/av-team/small_kitti/runs/1k13wjo9</a><br/>Synced 5 W&B file(s), 1 media file(s), 1 artifact file(s) and 0 other file(s)"
      ],
      "text/plain": [
       "<IPython.core.display.HTML object>"
      ]
     },
     "metadata": {},
     "output_type": "display_data"
    },
    {
     "data": {
      "text/html": [
       "Find logs at: <code>./wandb/run-20220909_133459-1k13wjo9/logs</code>"
      ],
      "text/plain": [
       "<IPython.core.display.HTML object>"
      ]
     },
     "metadata": {},
     "output_type": "display_data"
    }
   ],
   "source": [
    "with wandb.init(project=\"small_kitti\", entity=\"av-team\", job_type=\"data_viz\"):\n",
    "    wandb.use_artifact(\"KITTI_nano_tfrecord:v0\")\n",
    "    wandb.log(\n",
    "        {\"Class Frequencies\" : freq_plot(val_freq, title=\"Val class frequencies\")}\n",
    "    )"
   ]
  },
  {
   "cell_type": "code",
   "execution_count": 42,
   "id": "2becc59f-b4f5-4edd-b897-1c31d35047fe",
   "metadata": {},
   "outputs": [
    {
     "data": {
      "text/html": [
       "wandb version 0.13.3 is available!  To upgrade, please run:\n",
       " $ pip install wandb --upgrade"
      ],
      "text/plain": [
       "<IPython.core.display.HTML object>"
      ]
     },
     "metadata": {},
     "output_type": "display_data"
    },
    {
     "data": {
      "text/html": [
       "Tracking run with wandb version 0.13.2"
      ],
      "text/plain": [
       "<IPython.core.display.HTML object>"
      ]
     },
     "metadata": {},
     "output_type": "display_data"
    },
    {
     "data": {
      "text/html": [
       "Run data is saved locally in <code>/home/tcapelle/wandb/PCLSegmentation/pcl_segmentation/wandb/run-20220909_133510-3b8f9xk7</code>"
      ],
      "text/plain": [
       "<IPython.core.display.HTML object>"
      ]
     },
     "metadata": {},
     "output_type": "display_data"
    },
    {
     "data": {
      "text/html": [
       "Syncing run <strong><a href=\"https://wandb.ai/av-team/small_kitti/runs/3b8f9xk7\" target=\"_blank\">ruby-dragon-55</a></strong> to <a href=\"https://wandb.ai/av-team/small_kitti\" target=\"_blank\">Weights & Biases</a> (<a href=\"https://wandb.me/run\" target=\"_blank\">docs</a>)<br/>"
      ],
      "text/plain": [
       "<IPython.core.display.HTML object>"
      ]
     },
     "metadata": {},
     "output_type": "display_data"
    },
    {
     "data": {
      "text/html": [
       "Waiting for W&B process to finish... <strong style=\"color:green\">(success).</strong>"
      ],
      "text/plain": [
       "<IPython.core.display.HTML object>"
      ]
     },
     "metadata": {},
     "output_type": "display_data"
    },
    {
     "data": {
      "application/vnd.jupyter.widget-view+json": {
       "model_id": "",
       "version_major": 2,
       "version_minor": 0
      },
      "text/plain": [
       "VBox(children=(Label(value='0.001 MB of 0.002 MB uploaded (0.000 MB deduped)\\r'), FloatProgress(value=0.774820…"
      ]
     },
     "metadata": {},
     "output_type": "display_data"
    },
    {
     "data": {
      "text/html": [
       "Synced <strong style=\"color:#cdcd00\">ruby-dragon-55</strong>: <a href=\"https://wandb.ai/av-team/small_kitti/runs/3b8f9xk7\" target=\"_blank\">https://wandb.ai/av-team/small_kitti/runs/3b8f9xk7</a><br/>Synced 5 W&B file(s), 1 media file(s), 1 artifact file(s) and 0 other file(s)"
      ],
      "text/plain": [
       "<IPython.core.display.HTML object>"
      ]
     },
     "metadata": {},
     "output_type": "display_data"
    },
    {
     "data": {
      "text/html": [
       "Find logs at: <code>./wandb/run-20220909_133510-3b8f9xk7/logs</code>"
      ],
      "text/plain": [
       "<IPython.core.display.HTML object>"
      ]
     },
     "metadata": {},
     "output_type": "display_data"
    }
   ],
   "source": [
    "with wandb.init(project=\"small_kitti\", entity=\"av-team\", job_type=\"data_viz\"):\n",
    "    wandb.use_artifact(\"KITTI_nano_tfrecord:v0\")\n",
    "    wandb.log(\n",
    "        {\"Class Frequencies\" : freq_plot(train_freq, title=\"Train class frequencies\")}\n",
    "    )"
   ]
  }
 ],
 "metadata": {
  "kernelspec": {
   "display_name": "Python 3 (ipykernel)",
   "language": "python",
   "name": "python3"
  },
  "language_info": {
   "codemirror_mode": {
    "name": "ipython",
    "version": 3
   },
   "file_extension": ".py",
   "mimetype": "text/x-python",
   "name": "python",
   "nbconvert_exporter": "python",
   "pygments_lexer": "ipython3",
   "version": "3.10.6"
  }
 },
 "nbformat": 4,
 "nbformat_minor": 5
}
