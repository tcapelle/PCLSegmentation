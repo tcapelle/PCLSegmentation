{
 "cells": [
  {
   "cell_type": "code",
   "execution_count": 42,
   "id": "48b5398a-4bdb-4d64-98cb-faf182c2449d",
   "metadata": {},
   "outputs": [],
   "source": [
    "import shutil, random\n",
    "from pathlib import Path"
   ]
  },
  {
   "cell_type": "code",
   "execution_count": 34,
   "id": "67e30540-458e-42db-8c60-2c8a904fa551",
   "metadata": {},
   "outputs": [],
   "source": [
    "kitti_path = Path(\"/mnt/disks/KITTI/converted_dataset/\")\n",
    "small_kitti = Path(\"/mnt/disks/KITTI/small\")"
   ]
  },
  {
   "cell_type": "code",
   "execution_count": 35,
   "id": "6b3d222b-2c26-4f53-9016-99460c9d9133",
   "metadata": {},
   "outputs": [
    {
     "data": {
      "text/plain": [
       "True"
      ]
     },
     "execution_count": 35,
     "metadata": {},
     "output_type": "execute_result"
    }
   ],
   "source": [
    "small_kitti.exists()"
   ]
  },
  {
   "cell_type": "code",
   "execution_count": 44,
   "id": "bc2a6189-3224-465b-a622-9a02359d7c45",
   "metadata": {},
   "outputs": [],
   "source": [
    "train_files = list((kitti_path/\"train\").rglob(\"*.npy\"))\n",
    "valid_files = list((kitti_path/\"val\").rglob(\"*.npy\"))"
   ]
  },
  {
   "cell_type": "code",
   "execution_count": 46,
   "id": "4eabf5f1-a524-4a4b-ba2d-cdb10a89cd84",
   "metadata": {},
   "outputs": [],
   "source": [
    "sample_train_files = random.sample(train_files, 2000)\n",
    "sample_valid_files = random.sample(valid_files, 200)"
   ]
  },
  {
   "cell_type": "code",
   "execution_count": 47,
   "id": "38fe938e-6617-4207-ba8c-a92d0a5c490d",
   "metadata": {},
   "outputs": [
    {
     "data": {
      "text/plain": [
       "PosixPath('/mnt/disks/KITTI/converted_dataset/train/5786.npy')"
      ]
     },
     "execution_count": 47,
     "metadata": {},
     "output_type": "execute_result"
    }
   ],
   "source": [
    "sample_train_files[0]"
   ]
  },
  {
   "cell_type": "code",
   "execution_count": 48,
   "id": "96f1ded7-f88e-4485-b769-c0dd5a35570c",
   "metadata": {},
   "outputs": [],
   "source": [
    "for f in (sample_train_files+sample_valid_files):\n",
    "    shutil.copyfile(f, small_kitti/f.relative_to(kitti_path))"
   ]
  },
  {
   "cell_type": "code",
   "execution_count": null,
   "id": "8f2fab79-ff18-4767-aef7-45b71cace765",
   "metadata": {},
   "outputs": [],
   "source": []
  }
 ],
 "metadata": {
  "kernelspec": {
   "display_name": "Python 3 (ipykernel)",
   "language": "python",
   "name": "python3"
  },
  "language_info": {
   "codemirror_mode": {
    "name": "ipython",
    "version": 3
   },
   "file_extension": ".py",
   "mimetype": "text/x-python",
   "name": "python",
   "nbconvert_exporter": "python",
   "pygments_lexer": "ipython3",
   "version": "3.10.6"
  }
 },
 "nbformat": 4,
 "nbformat_minor": 5
}
