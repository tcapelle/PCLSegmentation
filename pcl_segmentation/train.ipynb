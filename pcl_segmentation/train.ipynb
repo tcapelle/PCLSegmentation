{
 "cells": [
  {
   "cell_type": "code",
   "execution_count": 27,
   "id": "e85068b9-b1ab-4919-927c-e0ad0f511fef",
   "metadata": {},
   "outputs": [],
   "source": [
    "from fastcore.all import *\n",
    "import wandb\n",
    "from wandb.keras import WandbCallback"
   ]
  },
  {
   "cell_type": "code",
   "execution_count": 28,
   "id": "456274ef-2a4e-4310-a8a3-ea950aad7590",
   "metadata": {},
   "outputs": [
    {
     "data": {
      "text/plain": [
       "True"
      ]
     },
     "execution_count": 28,
     "metadata": {},
     "output_type": "execute_result"
    }
   ],
   "source": [
    "kitti_path = Path(\"../dataset_samples/sample_dataset/\")\n",
    "kitti_path.exists()"
   ]
  },
  {
   "cell_type": "code",
   "execution_count": 29,
   "id": "22a85579-01fa-4f73-82f7-f13d27aae788",
   "metadata": {},
   "outputs": [],
   "source": [
    "import os.path\n",
    "\n",
    "import argparse\n",
    "import keras\n",
    "from data_loader import DataLoader\n",
    "from utils.callbacks import TensorBoard\n",
    "from utils.util import *\n",
    "from utils.args_loader import load_model_config"
   ]
  },
  {
   "cell_type": "code",
   "execution_count": 30,
   "id": "72961c88-b642-450f-b1e0-03eb1648ff2f",
   "metadata": {},
   "outputs": [],
   "source": [
    "import tensorflow as tf"
   ]
  },
  {
   "cell_type": "code",
   "execution_count": 31,
   "id": "66db2f5b-fbb2-42f4-8de5-5d84049cb50f",
   "metadata": {},
   "outputs": [],
   "source": [
    "tf.config.run_functions_eagerly(True)"
   ]
  },
  {
   "cell_type": "code",
   "execution_count": 32,
   "id": "3a352e7e-d11e-487a-8d0f-b7325792439a",
   "metadata": {},
   "outputs": [],
   "source": [
    "arg = SimpleNamespace(model=\"squeezesegv2\",\n",
    "                         config=\"squeezesegv2\",\n",
    "                         data_path=kitti_path,\n",
    "                         train_dir=\"../output\",\n",
    "                         epochs=10)\n",
    "                         "
   ]
  },
  {
   "cell_type": "code",
   "execution_count": 33,
   "id": "60dfec05-07bc-463f-99c7-c3e21639c8c2",
   "metadata": {},
   "outputs": [],
   "source": [
    "config, model = load_model_config(arg.model, arg.config)"
   ]
  },
  {
   "cell_type": "code",
   "execution_count": 34,
   "id": "90245425-2c65-429d-9b85-a3b914a0b5e3",
   "metadata": {},
   "outputs": [
    {
     "name": "stdout",
     "output_type": "stream",
     "text": [
      "TFRecord exists at ../dataset_samples/sample_dataset/train.tfrecord. Skipping TFRecord writing.\n",
      "TFRecord exists at ../dataset_samples/sample_dataset/val.tfrecord. Skipping TFRecord writing.\n"
     ]
    }
   ],
   "source": [
    "train_dl = DataLoader(\"train\", arg.data_path, config).write_tfrecord_dataset().read_tfrecord_dataset()\n",
    "val_dl = DataLoader(\"val\", arg.data_path, config).write_tfrecord_dataset().read_tfrecord_dataset()"
   ]
  },
  {
   "cell_type": "code",
   "execution_count": 35,
   "id": "4e119c85-9b06-4f72-a0f0-95fd791e9a0c",
   "metadata": {},
   "outputs": [],
   "source": [
    "lr_schedule = tf.keras.optimizers.schedules.ExponentialDecay(\n",
    "    initial_learning_rate=config.LEARNING_RATE,\n",
    "    decay_steps=config.LR_DECAY_STEPS,\n",
    "    decay_rate=config.LR_DECAY_FACTOR,\n",
    "    staircase=True)"
   ]
  },
  {
   "cell_type": "markdown",
   "id": "63b5534d-5698-4f44-99f4-8ea57b8c7f41",
   "metadata": {
    "tags": []
   },
   "source": [
    "## Let's log some data"
   ]
  },
  {
   "cell_type": "code",
   "execution_count": 36,
   "id": "29b3a5ed-92db-464f-bbd1-4bb5a8911a0f",
   "metadata": {},
   "outputs": [],
   "source": [
    "import tensorflow as tf\n",
    "import numpy\n",
    "import keras\n",
    "\n",
    "\n",
    "class LogSamplesCallback(WandbCallback):\n",
    "    \"A simple Keras callback to log model predictions\"\n",
    "    \n",
    "    def __init__(self, dataset, **kwargs):\n",
    "        super().__init__(**kwargs)\n",
    "        self.dataset = dataset\n",
    "        self.num_images = 1\n",
    "        \n",
    "    def on_epoch_end(self, epoch, logs=None):\n",
    "        super().on_epoch_end(epoch, logs=logs)\n",
    "        \n",
    "        # get first batch of dataset\n",
    "        class_color_map = self.model.CLS_COLOR_MAP\n",
    "        (lidar_input, lidar_mask), label, weight = self.dataset.take(1).get_single_element()\n",
    "\n",
    "        probabilities, predictions = self.model([lidar_input, lidar_mask])\n",
    "\n",
    "        label = label[:self.num_images, :, :]\n",
    "        weight = weight[:self.num_images, :, :].numpy()\n",
    "        predictions = predictions[:self.num_images, :, :].numpy()\n",
    "\n",
    "        # label and prediction visualizations\n",
    "        label_image = class_color_map[label.numpy().reshape(-1)].reshape([self.num_images, label.shape[1], label.shape[2], 3])\n",
    "        pred_image = class_color_map[predictions.reshape(-1)].reshape([self.num_images, label.shape[1], label.shape[2], 3])\n",
    "        weight_image = weight.reshape([self.num_images, weight.shape[1], weight.shape[2], 1])\n",
    "        depth_image = lidar_input.numpy()[:self.num_images, :, :, [4]]\n",
    "        intensity = lidar_input.numpy()[:self.num_images, :, :, [3]]\n",
    "        points = lidar_input.numpy()[:self.num_images, :, :, :3]\n",
    "        points_rgb = np.concatenate([points, (255*label_image).astype(int)], axis=-1).reshape(-1, 6)\n",
    "        \n",
    "        def _resize(img, factor=3):\n",
    "            return tf.image.resize(img, [img.shape[1]*factor, img.shape[2]*factor]).numpy()\n",
    "        intensity_image, depth_image, weight_image,label_image, pred_image = map(_resize, [intensity, depth_image, weight_image,label_image, pred_image])\n",
    "        \n",
    "        # log a bunch of images\n",
    "        wandb.log({'Images/Label Image': wandb.Image(label_image)}, step=epoch)\n",
    "        wandb.log({'Images/Depth Image': wandb.Image(depth_image)}, step=epoch)\n",
    "        wandb.log({'Images/Intensity Image': wandb.Image(intensity_image)}, step=epoch)\n",
    "        wandb.log({'Images/Prediction Image':wandb.Image(pred_image)}, step=epoch)\n",
    "        wandb.log({\"Images/3D\": wandb.Object3D({\"type\": \"lidar/beta\", \"points\":points_rgb})})\n"
   ]
  },
  {
   "cell_type": "code",
   "execution_count": 76,
   "id": "cfd2333c-6ed5-4981-a9b5-5438ceea78ef",
   "metadata": {},
   "outputs": [
    {
     "data": {
      "text/plain": [
       "<PrefetchDataset element_spec=((TensorSpec(shape=(1, 32, 240, 6), dtype=tf.float32, name=None), TensorSpec(shape=(1, 32, 240), dtype=tf.bool, name=None)), TensorSpec(shape=(1, 32, 240), dtype=tf.int32, name=None), TensorSpec(shape=(1, 32, 240), dtype=tf.float32, name=None))>"
      ]
     },
     "execution_count": 76,
     "metadata": {},
     "output_type": "execute_result"
    }
   ],
   "source": [
    "val_dl"
   ]
  },
  {
   "cell_type": "code",
   "execution_count": 75,
   "id": "b4a3b431-7f55-4f45-aac7-86efd3b5972e",
   "metadata": {},
   "outputs": [
    {
     "data": {
      "text/plain": [
       "((<tf.Tensor: shape=(1, 32, 240, 6), dtype=float32, numpy=\n",
       "  array([[[[ 0.        ,  0.        ,  0.        ,  0.        ,\n",
       "             0.        ,  0.        ],\n",
       "           [ 0.        ,  0.        ,  0.        ,  0.        ,\n",
       "             0.        ,  0.        ],\n",
       "           [ 0.        ,  0.        ,  0.        ,  0.        ,\n",
       "             0.        ,  0.        ],\n",
       "           ...,\n",
       "           [ 0.01911327, -1.406345  ,  3.5605857 , -0.21036972,\n",
       "             0.09308348,  1.        ],\n",
       "           [-0.0066227 , -1.379111  ,  3.4559512 , -0.01201999,\n",
       "             0.06615528,  1.        ],\n",
       "           [ 0.        ,  0.        ,  0.        ,  0.        ,\n",
       "             0.        ,  0.        ]],\n",
       "  \n",
       "          [[ 0.35335293,  1.9470439 ,  3.452807  ,  0.0673199 ,\n",
       "             0.45894414,  1.        ],\n",
       "           [ 0.26908162,  1.7816892 ,  3.1993546 ,  0.30533957,\n",
       "             0.3648252 ,  1.        ],\n",
       "           [ 0.2209083 ,  1.6803578 ,  3.0525827 ,  0.18632974,\n",
       "             0.31032145,  1.        ],\n",
       "           ...,\n",
       "           [-0.02261261, -1.3427162 ,  2.3023362 ,  1.3367581 ,\n",
       "             0.0317183 ,  1.        ],\n",
       "           [-0.02289562, -1.3535511 ,  2.3044279 ,  1.0193986 ,\n",
       "             0.03249514,  1.        ],\n",
       "           [ 0.        ,  0.        ,  0.        ,  0.        ,\n",
       "             0.        ,  0.        ]],\n",
       "  \n",
       "          [[ 0.30426514,  1.8793852 ,  2.2313106 ,  0.22599968,\n",
       "             0.39628455,  1.        ],\n",
       "           [ 0.31500426,  1.8623155 ,  2.2457597 ,  0.22599968,\n",
       "             0.40418175,  1.        ],\n",
       "           [ 0.31356525,  1.8423557 ,  2.2396014 ,  0.22599968,\n",
       "             0.40081573,  1.        ],\n",
       "           ...,\n",
       "           [-0.06511332, -1.2753794 ,  1.4674065 , -0.01201999,\n",
       "            -0.02123181,  1.        ],\n",
       "           [ 0.        ,  0.        ,  0.        ,  0.        ,\n",
       "             0.        ,  0.        ],\n",
       "           [ 0.        ,  0.        ,  0.        ,  0.        ,\n",
       "             0.        ,  0.        ]],\n",
       "  \n",
       "          ...,\n",
       "  \n",
       "          [[-0.55901927,  0.34858948, -0.83707213, -0.56739926,\n",
       "            -0.538952  ,  1.        ],\n",
       "           [-0.55873144,  0.34487078, -0.83669096, -0.56739926,\n",
       "            -0.5390814 ,  1.        ],\n",
       "           [-0.5583089 ,  0.34117702, -0.83669096, -0.56739926,\n",
       "            -0.53908145,  1.        ],\n",
       "           ...,\n",
       "           [-0.56784827, -0.4940592 , -0.7939987 , -0.56739926,\n",
       "            -0.5535812 ,  1.        ],\n",
       "           [-0.5679244 , -0.4974858 , -0.7947611 , -0.56739926,\n",
       "            -0.5533223 ,  1.        ],\n",
       "           [-0.5683983 , -0.50068355, -0.79437995, -0.56739926,\n",
       "            -0.5534518 ,  1.        ]],\n",
       "  \n",
       "          [[-0.64007884,  0.20671976, -0.8047964 , -0.40871945,\n",
       "            -0.6243972 ,  1.        ],\n",
       "           [-0.6399159 ,  0.20410499, -0.8042725 , -0.40871945,\n",
       "            -0.6245266 ,  1.        ],\n",
       "           [-0.639421  ,  0.20221044, -0.8053204 , -0.4483894 ,\n",
       "            -0.6242677 ,  1.        ],\n",
       "           ...,\n",
       "           [-0.63867396, -0.38353732, -0.7964132 , -0.17069978,\n",
       "            -0.6264686 ,  1.        ],\n",
       "           [-0.6389254 , -0.3859661 , -0.7964132 , -0.25003967,\n",
       "            -0.6264686 ,  1.        ],\n",
       "           [-0.6393092 , -0.38832596, -0.7958892 , -0.21036972,\n",
       "            -0.626598  ,  1.        ]],\n",
       "  \n",
       "          [[ 0.        ,  0.        ,  0.        ,  0.        ,\n",
       "             0.        ,  0.        ],\n",
       "           [ 0.        ,  0.        ,  0.        ,  0.        ,\n",
       "             0.        ,  0.        ],\n",
       "           [ 0.        ,  0.        ,  0.        ,  0.        ,\n",
       "             0.        ,  0.        ],\n",
       "           ...,\n",
       "           [ 0.        ,  0.        ,  0.        ,  0.        ,\n",
       "             0.        ,  0.        ],\n",
       "           [ 0.        ,  0.        ,  0.        ,  0.        ,\n",
       "             0.        ,  0.        ],\n",
       "           [ 0.        ,  0.        ,  0.        ,  0.        ,\n",
       "             0.        ,  0.        ]]]], dtype=float32)>,\n",
       "  <tf.Tensor: shape=(1, 32, 240), dtype=bool, numpy=\n",
       "  array([[[False, False, False, ...,  True,  True, False],\n",
       "          [ True,  True,  True, ...,  True,  True, False],\n",
       "          [ True,  True,  True, ...,  True, False, False],\n",
       "          ...,\n",
       "          [ True,  True,  True, ...,  True,  True,  True],\n",
       "          [ True,  True,  True, ...,  True,  True,  True],\n",
       "          [False, False, False, ..., False, False, False]]])>),\n",
       " <tf.Tensor: shape=(1, 32, 240), dtype=int32, numpy=\n",
       " array([[[10, 10, 10, ...,  4,  4, 10],\n",
       "         [ 4,  4,  4, ...,  4,  4, 10],\n",
       "         [ 4,  4,  4, ...,  4, 10, 10],\n",
       "         ...,\n",
       "         [ 0,  0,  0, ...,  0,  0,  0],\n",
       "         [ 0,  0,  0, ...,  0,  0,  0],\n",
       "         [10, 10, 10, ..., 10, 10, 10]]], dtype=int32)>,\n",
       " <tf.Tensor: shape=(1, 32, 240), dtype=float32, numpy=\n",
       " array([[[1., 1., 1., ..., 1., 1., 1.],\n",
       "         [1., 1., 1., ..., 1., 1., 1.],\n",
       "         [1., 1., 1., ..., 1., 1., 1.],\n",
       "         ...,\n",
       "         [1., 1., 1., ..., 1., 1., 1.],\n",
       "         [1., 1., 1., ..., 1., 1., 1.],\n",
       "         [1., 1., 1., ..., 1., 1., 1.]]], dtype=float32)>)"
      ]
     },
     "execution_count": 75,
     "metadata": {},
     "output_type": "execute_result"
    }
   ],
   "source": [
    "next(iter(val_dl))"
   ]
  },
  {
   "cell_type": "code",
   "execution_count": 71,
   "id": "fbbb52a7-8004-43f5-8281-a2717a8dd2e6",
   "metadata": {},
   "outputs": [
    {
     "data": {
      "text/plain": [
       "((<tf.Tensor: shape=(1, 32, 240, 6), dtype=float32, numpy=\n",
       "  array([[[[ 1.009395  ,  3.0777023 ,  7.937118  ,  0.741709  ,\n",
       "             1.2126087 ,  1.        ],\n",
       "           [ 1.0246376 ,  3.073608  ,  7.9894347 ,  0.7813789 ,\n",
       "             1.2263048 ,  1.        ],\n",
       "           [ 1.0340153 ,  3.059612  ,  8.017606  ,  0.7813789 ,\n",
       "             1.2335445 ,  1.        ],\n",
       "           ...,\n",
       "           [-0.20240848, -1.0604539 ,  2.6259193 , -0.32937956,\n",
       "            -0.14943846,  1.        ],\n",
       "           [-0.22895499, -1.0291561 ,  2.5167575 , -0.4483894 ,\n",
       "            -0.17752884,  1.        ],\n",
       "           [ 0.        ,  0.        ,  0.        ,  0.        ,\n",
       "             0.        ,  0.        ]],\n",
       "  \n",
       "          [[ 0.7972451 ,  2.7089434 ,  4.7768946 ,  0.5036893 ,\n",
       "             0.9434718 ,  1.        ],\n",
       "           [ 0.7750833 ,  2.6445308 ,  4.70438   ,  0.42434943,\n",
       "             0.9165325 ,  1.        ],\n",
       "           [ 0.        ,  0.        ,  0.        ,  0.        ,\n",
       "             0.        ,  0.        ],\n",
       "           ...,\n",
       "           [ 0.        ,  0.        ,  0.        ,  0.        ,\n",
       "             0.        ,  0.        ],\n",
       "           [ 0.        ,  0.        ,  0.        ,  0.        ,\n",
       "             0.        ,  0.        ],\n",
       "           [-0.09025926, -1.2585275 ,  2.1182609 , -0.40871945,\n",
       "            -0.03890089,  1.        ]],\n",
       "  \n",
       "          [[ 0.7874779 ,  2.6928363 ,  3.1972644 ,  0.34500954,\n",
       "             0.91724676,  1.        ],\n",
       "           [ 0.79014146,  2.6707342 ,  3.1970274 ,  0.34500954,\n",
       "             0.91735566,  1.        ],\n",
       "           [ 0.8030552 ,  2.6665528 ,  3.2176354 ,  0.34500954,\n",
       "             0.9286085 ,  1.        ],\n",
       "           ...,\n",
       "           [ 0.        ,  0.        ,  0.        ,  0.        ,\n",
       "             0.        ,  0.        ],\n",
       "           [-0.29801953, -0.9211768 ,  1.0185387 , -0.05168994,\n",
       "            -0.2685955 ,  1.        ],\n",
       "           [-0.2994835 , -0.92710423,  1.0171176 , -0.36904952,\n",
       "            -0.26936936,  1.        ]],\n",
       "  \n",
       "          ...,\n",
       "  \n",
       "          [[-0.58609337,  0.2988471 , -0.7699843 , -0.56739926,\n",
       "            -0.56865174,  1.        ],\n",
       "           [-0.58585095,  0.2953965 , -0.7696032 , -0.56739926,\n",
       "            -0.5687919 ,  1.        ],\n",
       "           [ 0.        ,  0.        ,  0.        ,  0.        ,\n",
       "             0.        ,  0.        ],\n",
       "           ...,\n",
       "           [-0.5980549 , -0.44630837, -0.70556486, -0.28970963,\n",
       "            -0.5861312 ,  1.        ],\n",
       "           [-0.5982428 , -0.44951192, -0.7059461 , -0.17069978,\n",
       "            -0.58599824,  1.        ],\n",
       "           [-0.59848166, -0.45185372, -0.7051837 , -0.21036972,\n",
       "            -0.58600336,  1.        ]],\n",
       "  \n",
       "          [[-0.65302294,  0.1831087 , -0.774407  , -0.4483894 ,\n",
       "            -0.6384517 ,  1.        ],\n",
       "           [-0.6526613 ,  0.18107899, -0.77493095, -0.40871945,\n",
       "            -0.6383319 ,  1.        ],\n",
       "           [-0.65228844,  0.17892534, -0.7754549 , -0.4483894 ,\n",
       "            -0.6382126 ,  1.        ],\n",
       "           ...,\n",
       "           [-0.645179  , -0.3730478 , -0.77597886,  0.0673199 ,\n",
       "            -0.63349295,  1.        ],\n",
       "           [-0.6459865 , -0.37426943, -0.77335906, -0.09135988,\n",
       "            -0.6341378 ,  1.        ],\n",
       "           [-0.64612395, -0.37693167, -0.77388304, -0.01201999,\n",
       "            -0.63400537,  1.        ]],\n",
       "  \n",
       "          [[ 0.        ,  0.        ,  0.        ,  0.        ,\n",
       "             0.        ,  0.        ],\n",
       "           [ 0.        ,  0.        ,  0.        ,  0.        ,\n",
       "             0.        ,  0.        ],\n",
       "           [ 0.        ,  0.        ,  0.        ,  0.        ,\n",
       "             0.        ,  0.        ],\n",
       "           ...,\n",
       "           [ 0.        ,  0.        ,  0.        ,  0.        ,\n",
       "             0.        ,  0.        ],\n",
       "           [ 0.        ,  0.        ,  0.        ,  0.        ,\n",
       "             0.        ,  0.        ],\n",
       "           [ 0.        ,  0.        ,  0.        ,  0.        ,\n",
       "             0.        ,  0.        ]]]], dtype=float32)>,\n",
       "  <tf.Tensor: shape=(1, 32, 240), dtype=bool, numpy=\n",
       "  array([[[ True,  True,  True, ...,  True,  True, False],\n",
       "          [ True,  True, False, ..., False, False,  True],\n",
       "          [ True,  True,  True, ..., False,  True,  True],\n",
       "          ...,\n",
       "          [ True,  True, False, ...,  True,  True,  True],\n",
       "          [ True,  True,  True, ...,  True,  True,  True],\n",
       "          [False, False, False, ..., False, False, False]]])>),\n",
       " <tf.Tensor: shape=(1, 32, 240), dtype=int32, numpy=\n",
       " array([[[ 4,  4,  4, ...,  4,  4, 10],\n",
       "         [ 4,  4, 10, ..., 10, 10,  4],\n",
       "         [ 4,  4,  4, ..., 10,  4,  4],\n",
       "         ...,\n",
       "         [ 0,  0, 10, ...,  1,  1,  1],\n",
       "         [ 0,  0,  0, ...,  0,  0,  0],\n",
       "         [10, 10, 10, ..., 10, 10, 10]]], dtype=int32)>,\n",
       " <tf.Tensor: shape=(1, 32, 240), dtype=float32, numpy=\n",
       " array([[[1., 1., 1., ..., 1., 1., 1.],\n",
       "         [1., 1., 1., ..., 1., 1., 1.],\n",
       "         [1., 1., 1., ..., 1., 1., 1.],\n",
       "         ...,\n",
       "         [1., 1., 1., ..., 1., 1., 1.],\n",
       "         [1., 1., 1., ..., 1., 1., 1.],\n",
       "         [1., 1., 1., ..., 1., 1., 1.]]], dtype=float32)>)"
      ]
     },
     "execution_count": 71,
     "metadata": {},
     "output_type": "execute_result"
    }
   ],
   "source": [
    "val_dl.take(1).get_single_element()"
   ]
  },
  {
   "cell_type": "code",
   "execution_count": 37,
   "id": "6dcb0483-f271-408e-9edc-c63894c41f73",
   "metadata": {},
   "outputs": [],
   "source": [
    "(lidar_input, lidar_mask), label, weight = val_dl.take(1).get_single_element()"
   ]
  },
  {
   "cell_type": "code",
   "execution_count": 38,
   "id": "41f9e9da-d2c5-407e-aa41-e20f78b10ece",
   "metadata": {},
   "outputs": [],
   "source": [
    "class_color_map = model.CLS_COLOR_MAP"
   ]
  },
  {
   "cell_type": "code",
   "execution_count": 39,
   "id": "d14ffcfb-3e18-41c1-8a42-111a6b2f71ce",
   "metadata": {},
   "outputs": [],
   "source": [
    "num_images=1"
   ]
  },
  {
   "cell_type": "code",
   "execution_count": 40,
   "id": "92f8ba83-c314-4684-8125-239d1cdd1f61",
   "metadata": {},
   "outputs": [],
   "source": [
    "label_image = class_color_map[label.numpy().reshape(-1)].reshape([num_images, label.shape[1], label.shape[2], 3])"
   ]
  },
  {
   "cell_type": "code",
   "execution_count": 41,
   "id": "39a56c45-4da4-4a40-acd4-1a07aa6f9be2",
   "metadata": {},
   "outputs": [],
   "source": [
    "points = lidar_input[..., :3].numpy()"
   ]
  },
  {
   "cell_type": "code",
   "execution_count": 42,
   "id": "228e280c-ddd1-4c9b-ab1b-d2e3439a9647",
   "metadata": {},
   "outputs": [
    {
     "data": {
      "text/plain": [
       "(1, 32, 240, 3)"
      ]
     },
     "execution_count": 42,
     "metadata": {},
     "output_type": "execute_result"
    }
   ],
   "source": [
    "points.shape"
   ]
  },
  {
   "cell_type": "code",
   "execution_count": 43,
   "id": "5c17624e-e713-484a-a543-ec365b05c5f6",
   "metadata": {},
   "outputs": [
    {
     "data": {
      "text/plain": [
       "(1, 32, 240, 3)"
      ]
     },
     "execution_count": 43,
     "metadata": {},
     "output_type": "execute_result"
    }
   ],
   "source": [
    "label_image.shape"
   ]
  },
  {
   "cell_type": "code",
   "execution_count": 44,
   "id": "641ae6ec-ac06-48af-b2f9-cd80fbb3bc72",
   "metadata": {},
   "outputs": [],
   "source": [
    "a = (label_image*255)"
   ]
  },
  {
   "cell_type": "code",
   "execution_count": 45,
   "id": "9f7c517c-f2ab-4746-9380-e4dc1cc5fd39",
   "metadata": {},
   "outputs": [
    {
     "data": {
      "text/plain": [
       "array([[[[  0,   0,   0],\n",
       "         [  0,   0,   0],\n",
       "         [  0,   0,   0],\n",
       "         ...,\n",
       "         [107, 142,  35],\n",
       "         [107, 142,  35],\n",
       "         [  0,   0,   0]],\n",
       "\n",
       "        [[107, 142,  35],\n",
       "         [107, 142,  35],\n",
       "         [107, 142,  35],\n",
       "         ...,\n",
       "         [107, 142,  35],\n",
       "         [107, 142,  35],\n",
       "         [  0,   0,   0]],\n",
       "\n",
       "        [[107, 142,  35],\n",
       "         [107, 142,  35],\n",
       "         [107, 142,  35],\n",
       "         ...,\n",
       "         [107, 142,  35],\n",
       "         [  0,   0,   0],\n",
       "         [  0,   0,   0]],\n",
       "\n",
       "        ...,\n",
       "\n",
       "        [[128,  64, 128],\n",
       "         [128,  64, 128],\n",
       "         [128,  64, 128],\n",
       "         ...,\n",
       "         [128,  64, 128],\n",
       "         [128,  64, 128],\n",
       "         [128,  64, 128]],\n",
       "\n",
       "        [[128,  64, 128],\n",
       "         [128,  64, 128],\n",
       "         [128,  64, 128],\n",
       "         ...,\n",
       "         [128,  64, 128],\n",
       "         [128,  64, 128],\n",
       "         [128,  64, 128]],\n",
       "\n",
       "        [[  0,   0,   0],\n",
       "         [  0,   0,   0],\n",
       "         [  0,   0,   0],\n",
       "         ...,\n",
       "         [  0,   0,   0],\n",
       "         [  0,   0,   0],\n",
       "         [  0,   0,   0]]]])"
      ]
     },
     "execution_count": 45,
     "metadata": {},
     "output_type": "execute_result"
    }
   ],
   "source": [
    "a.astype(int)"
   ]
  },
  {
   "cell_type": "code",
   "execution_count": 46,
   "id": "f2c32b71-8aff-4aca-a8c1-11b11512021e",
   "metadata": {},
   "outputs": [],
   "source": [
    "points_rgb = np.concatenate([points, label_image], axis=-1).reshape(-1, 6)"
   ]
  },
  {
   "cell_type": "code",
   "execution_count": 47,
   "id": "fba4684a-d1ab-4f23-947c-c74c0fa78e44",
   "metadata": {},
   "outputs": [
    {
     "data": {
      "text/plain": [
       "(7680, 6)"
      ]
     },
     "execution_count": 47,
     "metadata": {},
     "output_type": "execute_result"
    }
   ],
   "source": [
    "points_rgb.shape"
   ]
  },
  {
   "cell_type": "code",
   "execution_count": 48,
   "id": "8c134673-64b6-46a6-b40d-3e372c241efe",
   "metadata": {},
   "outputs": [
    {
     "data": {
      "text/plain": [
       "<wandb.sdk.data_types.object_3d.Object3D at 0x38bb4f610>"
      ]
     },
     "execution_count": 48,
     "metadata": {},
     "output_type": "execute_result"
    }
   ],
   "source": [
    "wandb.Object3D({\"type\": \"lidar/beta\", \"points\":points_rgb})\n",
    "    "
   ]
  },
  {
   "cell_type": "code",
   "execution_count": 49,
   "id": "6259a4a4-fb4d-4998-aa58-7bec32f5ff3f",
   "metadata": {},
   "outputs": [
    {
     "data": {
      "text/html": [
       "Tracking run with wandb version 0.13.2"
      ],
      "text/plain": [
       "<IPython.core.display.HTML object>"
      ]
     },
     "metadata": {},
     "output_type": "display_data"
    },
    {
     "data": {
      "text/html": [
       "Run data is saved locally in <code>/Users/tcapelle/wandb/PCLSegmentation/pcl_segmentation/wandb/run-20220902_170220-3tz962ml</code>"
      ],
      "text/plain": [
       "<IPython.core.display.HTML object>"
      ]
     },
     "metadata": {},
     "output_type": "display_data"
    },
    {
     "data": {
      "text/html": [
       "Syncing run <strong><a href=\"https://wandb.ai/av-team/lidar_tf/runs/3tz962ml\" target=\"_blank\">trim-valley-16</a></strong> to <a href=\"https://wandb.ai/av-team/lidar_tf\" target=\"_blank\">Weights & Biases</a> (<a href=\"https://wandb.me/run\" target=\"_blank\">docs</a>)<br/>"
      ],
      "text/plain": [
       "<IPython.core.display.HTML object>"
      ]
     },
     "metadata": {},
     "output_type": "display_data"
    }
   ],
   "source": [
    "wandb.init(project=\"lidar_tf\", entity=\"av-team\", sync_tensorboard=True)\n",
    "\n",
    "wandb_callback = LogSamplesCallback(dataset=val_dl, save_model=False)\n",
    "# tensorboard_callback = TensorBoard(arg.train_dir, val_dl, profile_batch=(200, 202))\n",
    "# checkpoint_callback = tf.keras.callbacks.ModelCheckpoint(os.path.join(arg.train_dir, \"checkpoint\"))\n",
    "\n",
    "# cbs = [wandb_callback, tensorboard_callback, checkpoint_callback]\n",
    "cbs = [wandb_callback]"
   ]
  },
  {
   "cell_type": "code",
   "execution_count": 50,
   "id": "98463e0e-be3c-4086-8629-fc9de8430118",
   "metadata": {},
   "outputs": [],
   "source": [
    "optimizer = tf.keras.optimizers.Adam(learning_rate=lr_schedule, clipnorm=config.MAX_GRAD_NORM)\n",
    "\n",
    "model.compile(optimizer=optimizer, weighted_metrics=[])"
   ]
  },
  {
   "cell_type": "code",
   "execution_count": 51,
   "id": "a6449269-22df-421f-a83d-59bcc007e3f0",
   "metadata": {},
   "outputs": [
    {
     "name": "stderr",
     "output_type": "stream",
     "text": [
      "\u001b[34m\u001b[1mwandb\u001b[0m: \u001b[33mWARNING\u001b[0m Unable to compute FLOPs for this model.\n"
     ]
    },
    {
     "name": "stdout",
     "output_type": "stream",
     "text": [
      "Epoch 1/10\n",
      "1/1 [==============================] - 4s 4s/step - loss: 2.4020 - miou: 0.0865 - val_loss: 2.2477 - val_miou: 0.0455\n",
      "Epoch 2/10\n",
      "1/1 [==============================] - 4s 4s/step - loss: 2.1089 - miou: 0.1170 - val_loss: 2.1452 - val_miou: 0.0446\n",
      "Epoch 3/10\n",
      "1/1 [==============================] - 4s 4s/step - loss: 1.8016 - miou: 0.1253 - val_loss: 2.2887 - val_miou: 0.0403\n",
      "Epoch 4/10\n",
      "1/1 [==============================] - 4s 4s/step - loss: 1.3857 - miou: 0.1061 - val_loss: 8.7842 - val_miou: 0.0207\n",
      "Epoch 5/10\n",
      "1/1 [==============================] - 4s 4s/step - loss: 3.3396 - miou: 0.0883 - val_loss: 2.7583 - val_miou: 0.0682\n",
      "Epoch 6/10\n",
      "1/1 [==============================] - 4s 4s/step - loss: 1.0957 - miou: 0.1699 - val_loss: 2.4551 - val_miou: 0.0878\n",
      "Epoch 7/10\n",
      "1/1 [==============================] - 4s 4s/step - loss: 1.1601 - miou: 0.2111 - val_loss: 2.4437 - val_miou: 0.0914\n",
      "Epoch 8/10\n",
      "1/1 [==============================] - 4s 4s/step - loss: 1.1898 - miou: 0.2323 - val_loss: 2.4836 - val_miou: 0.0937\n",
      "Epoch 9/10\n",
      "1/1 [==============================] - 3s 3s/step - loss: 1.1874 - miou: 0.2692 - val_loss: 2.5360 - val_miou: 0.0959\n",
      "Epoch 10/10\n",
      "1/1 [==============================] - 4s 4s/step - loss: 1.1600 - miou: 0.2766 - val_loss: 2.5905 - val_miou: 0.0975\n"
     ]
    },
    {
     "data": {
      "text/plain": [
       "<keras.callbacks.History at 0x30cd69480>"
      ]
     },
     "execution_count": 51,
     "metadata": {},
     "output_type": "execute_result"
    }
   ],
   "source": [
    "model.fit(train_dl,\n",
    "        validation_data=val_dl,\n",
    "        epochs=arg.epochs,\n",
    "        callbacks = cbs,\n",
    "        )"
   ]
  },
  {
   "cell_type": "code",
   "execution_count": 52,
   "id": "0880e934-9bb9-49d3-a1c2-5dd2030b230e",
   "metadata": {},
   "outputs": [
    {
     "data": {
      "text/html": [
       "Waiting for W&B process to finish... <strong style=\"color:green\">(success).</strong>"
      ],
      "text/plain": [
       "<IPython.core.display.HTML object>"
      ]
     },
     "metadata": {},
     "output_type": "display_data"
    },
    {
     "data": {
      "text/html": [
       "<style>\n",
       "    table.wandb td:nth-child(1) { padding: 0 10px; text-align: left ; width: auto;} td:nth-child(2) {text-align: left ; width: 100%}\n",
       "    .wandb-row { display: flex; flex-direction: row; flex-wrap: wrap; justify-content: flex-start; width: 100% }\n",
       "    .wandb-col { display: flex; flex-direction: column; flex-basis: 100%; flex: 1; padding: 10px; }\n",
       "    </style>\n",
       "<div class=\"wandb-row\"><div class=\"wandb-col\"><h3>Run history:</h3><br/><table class=\"wandb\"><tr><td>epoch</td><td>▁▂▃▃▄▅▆▆▇█</td></tr><tr><td>loss</td><td>▅▄▃▂█▁▁▁▁▁</td></tr><tr><td>miou</td><td>▁▂▂▂▁▄▆▆██</td></tr><tr><td>val_loss</td><td>▁▁▁█▂▁▁▁▁▁</td></tr><tr><td>val_miou</td><td>▃▃▃▁▅▇▇███</td></tr></table><br/></div><div class=\"wandb-col\"><h3>Run summary:</h3><br/><table class=\"wandb\"><tr><td>best_epoch</td><td>1</td></tr><tr><td>best_val_loss</td><td>2.14516</td></tr><tr><td>epoch</td><td>9</td></tr><tr><td>loss</td><td>1.16002</td></tr><tr><td>miou</td><td>0.27662</td></tr><tr><td>val_loss</td><td>2.5905</td></tr><tr><td>val_miou</td><td>0.09752</td></tr></table><br/></div></div>"
      ],
      "text/plain": [
       "<IPython.core.display.HTML object>"
      ]
     },
     "metadata": {},
     "output_type": "display_data"
    },
    {
     "data": {
      "text/html": [
       "Synced <strong style=\"color:#cdcd00\">trim-valley-16</strong>: <a href=\"https://wandb.ai/av-team/lidar_tf/runs/3tz962ml\" target=\"_blank\">https://wandb.ai/av-team/lidar_tf/runs/3tz962ml</a><br/>Synced 6 W&B file(s), 51 media file(s), 0 artifact file(s) and 0 other file(s)"
      ],
      "text/plain": [
       "<IPython.core.display.HTML object>"
      ]
     },
     "metadata": {},
     "output_type": "display_data"
    },
    {
     "data": {
      "text/html": [
       "Find logs at: <code>./wandb/run-20220902_170220-3tz962ml/logs</code>"
      ],
      "text/plain": [
       "<IPython.core.display.HTML object>"
      ]
     },
     "metadata": {},
     "output_type": "display_data"
    }
   ],
   "source": [
    "wandb.finish()"
   ]
  }
 ],
 "metadata": {
  "kernelspec": {
   "display_name": "Python 3 (ipykernel)",
   "language": "python",
   "name": "python3"
  },
  "language_info": {
   "codemirror_mode": {
    "name": "ipython",
    "version": 3
   },
   "file_extension": ".py",
   "mimetype": "text/x-python",
   "name": "python",
   "nbconvert_exporter": "python",
   "pygments_lexer": "ipython3",
   "version": "3.10.6"
  }
 },
 "nbformat": 4,
 "nbformat_minor": 5
}
